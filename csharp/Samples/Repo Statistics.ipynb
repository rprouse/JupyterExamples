{
 "cells": [
  {
   "cell_type": "markdown",
   "metadata": {},
   "source": [
    "# dotnet/interactive Github Dashboard <img src =\"https://upload.wikimedia.org/wikipedia/commons/thumb/3/38/Jupyter_logo.svg/207px-Jupyter_logo.svg.png\" width=\"60px\" alt=\"dotnet bot in space\" align =\"right\">"
   ]
  },
  {
   "cell_type": "markdown",
   "metadata": {},
   "source": [
    "### Add NuGet package references "
   ]
  },
  {
   "cell_type": "code",
   "execution_count": 1,
   "metadata": {},
   "outputs": [
    {
     "data": {
      "text/html": [
       "<span>Installed package NodaTime version 2.4.6</span>"
      ]
     },
     "metadata": {},
     "output_type": "display_data"
    },
    {
     "data": {
      "text/html": [
       "<span>Installed package Octokit version 0.32.0</span>"
      ]
     },
     "metadata": {},
     "output_type": "display_data"
    }
   ],
   "source": [
    "#r \"nuget:Octokit, 0.32.0\"\n",
    "#r \"nuget:NodaTime, 2.4.6\"\n",
    "using Octokit;\n",
    "using NodaTime;\n",
    "using NodaTime.Extensions;\n",
    "using XPlot.Plotly;"
   ]
  },
  {
   "cell_type": "markdown",
   "metadata": {},
   "source": [
    "### Setup\n",
    "Create a GitHub public API client "
   ]
  },
  {
   "cell_type": "code",
   "execution_count": 2,
   "metadata": {},
   "outputs": [],
   "source": [
    "var organization = \"dotnet\";\n",
    "var repositoryName = \"interactive\";\n",
    "var options = new ApiOptions();\n",
    "var gitHubClient = new GitHubClient(new ProductHeaderValue(\"notebook\"));\n"
   ]
  },
  {
   "cell_type": "markdown",
   "metadata": {},
   "source": [
    "[Generate a user token](https://help.github.com/en/github/authenticating-to-github/creating-a-personal-access-token-for-the-command-line) to get rid of public [api](https://github.com/octokit/octokit.net/blob/master/docs/getting-started.md) throttling policies for anonymous users "
   ]
  },
  {
   "cell_type": "code",
   "execution_count": null,
   "metadata": {},
   "outputs": [],
   "source": [
    "// var tokenAuth = new Credentials(\"YOUR-CREDENTIALS-HERE\");\n",
    "// gitHubClient.Credentials = tokenAuth;"
   ]
  },
  {
   "cell_type": "markdown",
   "metadata": {},
   "source": [
    "Create checkpoints for the:  current day(today), the start of the current month and, the start of the current year. "
   ]
  },
  {
   "cell_type": "code",
   "execution_count": 3,
   "metadata": {},
   "outputs": [],
   "source": [
    "var today = SystemClock.Instance.InUtc().GetCurrentDate();\n",
    "var startOfTheMonth = today.With(DateAdjusters.StartOfMonth);\n",
    "var startOfTheYear = new LocalDate(today.Year, 1, 1).AtMidnight();"
   ]
  },
  {
   "cell_type": "markdown",
   "metadata": {},
   "source": [
    "Query GitHub for : \n",
    "- Issues created this month\n",
    "- Issues closed this month\n",
    "- Every issue this year"
   ]
  },
  {
   "cell_type": "code",
   "execution_count": 4,
   "metadata": {},
   "outputs": [],
   "source": [
    "var createdIssuesRequest = new RepositoryIssueRequest\n",
    "            {\n",
    "                Since = startOfTheMonth.ToDateTimeUnspecified(),\n",
    "                Filter = IssueFilter.Created\n",
    "            };\n",
    "var closedIssuesRequest = new RepositoryIssueRequest\n",
    "            {\n",
    "                Since = startOfTheMonth.ToDateTimeUnspecified(),\n",
    "                State = ItemStateFilter.Closed\n",
    "            };\n",
    "var thisYearIssuesRequest = new RepositoryIssueRequest\n",
    "            {\n",
    "                State = ItemStateFilter.All,\n",
    "                Since = startOfTheYear.ToDateTimeUnspecified()\n",
    "            };"
   ]
  },
  {
   "cell_type": "markdown",
   "metadata": {},
   "source": [
    "Start pulling data via the GitHub API"
   ]
  },
  {
   "cell_type": "code",
   "execution_count": 5,
   "metadata": {},
   "outputs": [],
   "source": [
    "var createdThisMonth = await gitHubClient.Issue.GetAllForRepository(organization, repositoryName, createdIssuesRequest);\n",
    "var closedThisMonth = await gitHubClient.Issue.GetAllForRepository(organization, repositoryName, closedIssuesRequest);\n",
    "var thisYearIssues = await gitHubClient.Issue.GetAllForRepository(organization, repositoryName, thisYearIssuesRequest);"
   ]
  },
  {
   "cell_type": "markdown",
   "metadata": {},
   "source": [
    "Group open and closed issues by month "
   ]
  },
  {
   "cell_type": "code",
   "execution_count": 6,
   "metadata": {},
   "outputs": [],
   "source": [
    "var openSoFar = createdThisMonth.OrderBy(i => i.CreatedAt).Where(i => i.State.StringValue == \"open\").ToArray();\n",
    "var openByMonthOfCreation = openSoFar.GroupBy(i => new { i.CreatedAt.Year, i.CreatedAt.Month})\n",
    "                .Select(g => new {Date = g.Key, Count = g.Count()}).ToArray();\n",
    "\n",
    "var closedSoFar = thisYearIssues.OrderBy(i => i.CreatedAt).Where(i => i.State.StringValue == \"closed\").ToArray();\n",
    "var closedByMonthOfClosure = closedSoFar.GroupBy(i => new { i.ClosedAt.Value.Year, i.ClosedAt.Value.Month})\n",
    "                .Select(g => new {Date = g.Key, Count = g.Count()}).ToArray();\n",
    "var totalOpenIssues = thisYearIssues.Count();\n",
    "var openCountByMonth = closedSoFar.GroupBy(i => new { i.CreatedAt.Year, i.CreatedAt.Month})\n",
    "                .Select(g => {\n",
    "                    var count = g.Count();                    \n",
    "                    var dataPoint = new  {Date = g.Key, Count = totalOpenIssues};\n",
    "                    totalOpenIssues -= count;\n",
    "                    return dataPoint;\n",
    "                }).ToArray();"
   ]
  },
  {
   "cell_type": "markdown",
   "metadata": {},
   "source": [
    "Show issues opened this month grouped by day "
   ]
  },
  {
   "cell_type": "code",
   "execution_count": 7,
   "metadata": {},
   "outputs": [
    {
     "data": {
      "text/html": [
       "<div id=\"936d177a-bff6-4e34-8167-c2e0c244c458\" style=\"width: 900px; height: 500px;\"></div>\r\n",
       "<script type=\"text/javascript\">\r\n",
       "\r\n",
       "var renderPlotly = function() {\r\n",
       "    var xplotRequire = requirejs.config({context:'xplot-3.0.1',paths:{plotly:'https://cdn.plot.ly/plotly-1.49.2.min'}});\r\n",
       "    xplotRequire(['plotly'], function(Plotly) {\r\n",
       "\n",
       "            var data = [{\"type\":\"scatter\",\"x\":[\"2020-02-26T00:00:00\",\"2020-02-25T00:00:00\",\"2020-02-24T00:00:00\",\"2020-02-23T00:00:00\",\"2020-02-19T00:00:00\",\"2020-02-17T00:00:00\",\"2020-02-14T00:00:00\",\"2020-02-13T00:00:00\",\"2020-02-11T00:00:00\",\"2020-02-10T00:00:00\",\"2020-02-09T00:00:00\",\"2020-02-08T00:00:00\",\"2020-02-07T00:00:00\",\"2020-02-06T00:00:00\",\"2020-02-05T00:00:00\",\"2020-01-13T00:00:00\",\"2019-12-22T00:00:00\",\"2019-12-19T00:00:00\",\"2019-12-10T00:00:00\",\"2019-12-09T00:00:00\",\"2019-11-27T00:00:00\",\"2019-11-21T00:00:00\",\"2019-11-16T00:00:00\",\"2019-11-13T00:00:00\",\"2019-11-09T00:00:00\",\"2019-10-29T00:00:00\",\"2019-10-28T00:00:00\",\"2019-10-27T00:00:00\",\"2019-09-06T00:00:00\",\"2019-08-22T00:00:00\",\"2019-07-29T00:00:00\"],\"y\":[2,1,1,1,1,1,2,1,2,2,2,3,3,1,2,2,1,1,1,1,1,1,1,1,2,1,2,2,1,1,1]}];\n",
       "            var layout = {\"title\":\"Daily Issues\"};\n",
       "            Plotly.newPlot('936d177a-bff6-4e34-8167-c2e0c244c458', data, layout);\n",
       "        \r\n",
       "});\r\n",
       "};\r\n",
       "if ((typeof(requirejs) !==  typeof(Function)) || (typeof(requirejs.config) !== typeof(Function))) { \r\n",
       "    var script = document.createElement(\"script\"); \r\n",
       "    script.setAttribute(\"src\", \"https://cdnjs.cloudflare.com/ajax/libs/require.js/2.3.6/require.min.js\"); \r\n",
       "    script.onload = function(){\r\n",
       "        renderPlotly();\r\n",
       "    };\r\n",
       "    document.getElementsByTagName(\"head\")[0].appendChild(script); \r\n",
       "}\r\n",
       "else {\r\n",
       "    renderPlotly();\r\n",
       "}\r\n",
       "</script>\r\n"
      ]
     },
     "metadata": {},
     "output_type": "display_data"
    }
   ],
   "source": [
    "var createdThisMonthByDay = createdThisMonth.GroupBy(i => new DateTime(i.CreatedAt.Year,i.CreatedAt.Month, i.CreatedAt.Day)); \n",
    "var lineChart = Chart.Line(createdThisMonthByDay.Select(g => new Tuple<DateTime,int>(g.Key, g.Count())));\n",
    "lineChart.WithTitle(\"Daily Issues\");\n",
    "display(lineChart);"
   ]
  },
  {
   "cell_type": "code",
   "execution_count": 8,
   "metadata": {},
   "outputs": [
    {
     "data": {
      "text/html": [
       "<table><thead><tr><th><i>index</i></th><th>CreatedAt</th><th>Title</th><th>State</th><th>Number</th></tr></thead><tbody><tr><td>0</td><td>2020-02-26 13:24:24Z</td><td>[master] Update dependencies from dotnet/arcade</td><td>open</td><td>203</td></tr><tr><td>1</td><td>2020-02-26 01:26:44Z</td><td>Add the host support to the PowerShell kernel</td><td>open</td><td>202</td></tr><tr><td>2</td><td>2020-02-25 22:05:55Z</td><td>[PowerShell] InvalidOperation: The property &#39;histfunc&#39; cannot be found on this object</td><td>open</td><td>201</td></tr><tr><td>3</td><td>2020-02-24 07:37:35Z</td><td>How do I load classes from a local project?</td><td>open</td><td>192</td></tr><tr><td>4</td><td>2020-02-23 09:01:47Z</td><td>No interactive credential prompt</td><td>open</td><td>190</td></tr><tr><td>5</td><td>2020-02-19 18:08:05Z</td><td>VS Code Support</td><td>open</td><td>179</td></tr><tr><td>6</td><td>2020-02-17 04:55:17Z</td><td>PowerShell Kernel - Focus of apps or prompts</td><td>open</td><td>174</td></tr><tr><td>7</td><td>2020-02-14 23:00:21Z</td><td>Jupyter Lab error out in Windows Subsystem for Linux (WSL2).</td><td>open</td><td>172</td></tr><tr><td>8</td><td>2020-02-14 00:44:24Z</td><td>Install error - The specified framework &#39;Microsoft.AspNetCore.App&#39;, version &#39;3.1.0&#39; was not found</td><td>open</td><td>166</td></tr><tr><td>9</td><td>2020-02-13 20:36:01Z</td><td>Lock file for #r &quot;nuget:  &quot;</td><td>open</td><td>164</td></tr><tr><td colspan=\"5\">(more...)</td></tr></tbody></table>"
      ]
     },
     "metadata": {},
     "output_type": "display_data"
    }
   ],
   "source": [
    "display(openSoFar.Select(i => new {i.CreatedAt, i.Title, State = i.State.StringValue,  i.Number}).OrderByDescending(d => d.CreatedAt));"
   ]
  },
  {
   "cell_type": "code",
   "execution_count": 10,
   "metadata": {},
   "outputs": [
    {
     "data": {
      "text/html": [
       "<div id=\"915c4903-2bd1-40d8-b170-a4c6275278d1\" style=\"width: 900px; height: 500px;\"></div>\r\n",
       "<script type=\"text/javascript\">\r\n",
       "\r\n",
       "var renderPlotly = function() {\r\n",
       "    var xplotRequire = requirejs.config({context:'xplot-3.0.1',paths:{plotly:'https://cdn.plot.ly/plotly-1.49.2.min'}});\r\n",
       "    xplotRequire(['plotly'], function(Plotly) {\r\n",
       "\n",
       "            var data = [{\"type\":\"scatter\",\"x\":[\"2019-07-01T00:00:00\",\"2019-08-01T00:00:00\",\"2019-09-01T00:00:00\",\"2019-10-01T00:00:00\",\"2019-11-01T00:00:00\",\"2019-12-01T00:00:00\",\"2020-01-01T00:00:00\",\"2020-02-01T00:00:00\"],\"y\":[1,1,1,5,6,4,2,25]}];\n",
       "            var layout = {\"title\":\"Issues still opened grouped by month\"};\n",
       "            Plotly.newPlot('915c4903-2bd1-40d8-b170-a4c6275278d1', data, layout);\n",
       "        \r\n",
       "});\r\n",
       "};\r\n",
       "if ((typeof(requirejs) !==  typeof(Function)) || (typeof(requirejs.config) !== typeof(Function))) { \r\n",
       "    var script = document.createElement(\"script\"); \r\n",
       "    script.setAttribute(\"src\", \"https://cdnjs.cloudflare.com/ajax/libs/require.js/2.3.6/require.min.js\"); \r\n",
       "    script.onload = function(){\r\n",
       "        renderPlotly();\r\n",
       "    };\r\n",
       "    document.getElementsByTagName(\"head\")[0].appendChild(script); \r\n",
       "}\r\n",
       "else {\r\n",
       "    renderPlotly();\r\n",
       "}\r\n",
       "</script>\r\n"
      ]
     },
     "metadata": {},
     "output_type": "display_data"
    }
   ],
   "source": [
    "var lineChart = Chart.Line(openByMonthOfCreation.Select(g => new Tuple<DateTime, int>(new DateTime(g.Date.Year, g.Date.Month, 1),g.Count)));\n",
    "lineChart.WithTitle(\"Issues still opened grouped by month\");\n",
    "display(lineChart);"
   ]
  },
  {
   "cell_type": "code",
   "execution_count": 9,
   "metadata": {},
   "outputs": [
    {
     "data": {
      "text/html": [
       "<div id=\"6b807016-7479-4b69-9ac8-4a45beeafcce\" style=\"width: 900px; height: 500px;\"></div>\r\n",
       "<script type=\"text/javascript\">\r\n",
       "\r\n",
       "var renderPlotly = function() {\r\n",
       "    var xplotRequire = requirejs.config({context:'xplot-3.0.1',paths:{plotly:'https://cdn.plot.ly/plotly-1.49.2.min'}});\r\n",
       "    xplotRequire(['plotly'], function(Plotly) {\r\n",
       "\n",
       "            var data = [{\"type\":\"scattergl\",\"x\":[\"2019-10-01T00:00:00\",\"2019-11-01T00:00:00\",\"2019-12-01T00:00:00\",\"2020-02-01T00:00:00\"],\"y\":[2,1,1,7],\"name\":\"Idle\"},{\"type\":\"scattergl\",\"x\":[\"2019-07-01T00:00:00\",\"2019-08-01T00:00:00\",\"2019-09-01T00:00:00\",\"2019-10-01T00:00:00\",\"2019-11-01T00:00:00\",\"2019-12-01T00:00:00\",\"2020-01-01T00:00:00\",\"2020-02-01T00:00:00\"],\"y\":[1,1,1,3,5,3,2,18],\"name\":\"Active\"}];\n",
       "            var layout = {\"title\":\"Idle and active open issue report\"};\n",
       "            Plotly.newPlot('6b807016-7479-4b69-9ac8-4a45beeafcce', data, layout);\n",
       "        \r\n",
       "});\r\n",
       "};\r\n",
       "if ((typeof(requirejs) !==  typeof(Function)) || (typeof(requirejs.config) !== typeof(Function))) { \r\n",
       "    var script = document.createElement(\"script\"); \r\n",
       "    script.setAttribute(\"src\", \"https://cdnjs.cloudflare.com/ajax/libs/require.js/2.3.6/require.min.js\"); \r\n",
       "    script.onload = function(){\r\n",
       "        renderPlotly();\r\n",
       "    };\r\n",
       "    document.getElementsByTagName(\"head\")[0].appendChild(script); \r\n",
       "}\r\n",
       "else {\r\n",
       "    renderPlotly();\r\n",
       "}\r\n",
       "</script>\r\n"
      ]
     },
     "metadata": {},
     "output_type": "display_data"
    }
   ],
   "source": [
    "var idleByMonth = openSoFar.Where( i => i.Comments == 0).GroupBy(i => new DateTime( i.CreatedAt.Year, i.CreatedAt.Month, 1))\n",
    "    .Select(g => new {Date = g.Key, Count = g.Count()}).ToArray();\n",
    "var activeByMonth = openSoFar.Where( i => i.Comments > 0).GroupBy(i => new DateTime( i.CreatedAt.Year, i.CreatedAt.Month, 1))\n",
    "                .Select(g => new {Date = g.Key, Count = g.Count()}).ToArray();\n",
    "\n",
    "var idleSeries = new Graph.Scattergl\n",
    "{\n",
    "    name = \"Idle\",\n",
    "    y = idleByMonth.Select(g => g.Count ).ToArray(),\n",
    "    x = idleByMonth.Select(g => g.Date ).ToArray()\n",
    "};\n",
    "\n",
    "var activeSeries = new Graph.Scattergl\n",
    "{\n",
    "    name = \"Active\",\n",
    "    y = activeByMonth.Select(g => g.Count ).ToArray(),\n",
    "    x = activeByMonth.Select(g => g.Date ).ToArray()\n",
    "};\n",
    "\n",
    "\n",
    "var chart = Chart.Plot(new[] {idleSeries, activeSeries});\n",
    "chart.WithTitle(\"Idle and active open issue report\");\n",
    "display(chart);"
   ]
  },
  {
   "cell_type": "code",
   "execution_count": null,
   "metadata": {},
   "outputs": [],
   "source": [
    "var openDataPoints = openByMonthOfCreation\n",
    "    .Select(g => new { y = g.Count, x = new DateTime(g.Date.Year, g.Date.Month, 1)} )\n",
    "    .OrderBy(d => d.x).ToArray();\n",
    "\n",
    "\n",
    "var closedDataPoints = closedByMonthOfClosure\n",
    "    .Select(g => new { y = g.Count, x = new DateTime(g.Date.Year, g.Date.Month, 1)} )\n",
    "    .OrderBy(d => d.x).ToArray();\n",
    "\n",
    "var openCountByMonthDataPoints = openCountByMonth\n",
    "    .Select(g => new { y = g.Count, x = new DateTime(g.Date.Year, g.Date.Month, 1)} )\n",
    "    .OrderBy(d => d.x).ToArray();\n",
    "\n",
    "var openSeries = new Graph.Scattergl\n",
    "{\n",
    "    name = \"Created\",\n",
    "    y = openDataPoints.Select(g => g.y ).ToArray(),\n",
    "    x = openDataPoints.Select(g => g.x ).ToArray()\n",
    "};\n",
    "\n",
    "var closeSeries = new Graph.Scattergl\n",
    "{\n",
    "    name = \"Closed\",\n",
    "    y = closedDataPoints.Select(g => g.y ).ToArray(),\n",
    "    x = closedDataPoints.Select(g => g.x ).ToArray()\n",
    "};\n",
    "\n",
    "var stillOpenSeries = new Graph.Scattergl\n",
    "{\n",
    "    name = \"Open\",\n",
    "    y = openCountByMonthDataPoints.Select(g => g.y ).ToArray(),\n",
    "    x = openCountByMonthDataPoints.Select(g => g.x ).ToArray()\n",
    "};\n",
    "\n",
    "\n",
    "var chart = Chart.Plot(new[] {openSeries, closeSeries, stillOpenSeries});\n",
    "chart.WithTitle(\"Issue report for the current year\");\n",
    "display(chart);"
   ]
  },
  {
   "cell_type": "markdown",
   "metadata": {},
   "source": [
    "### How many times has dotnet/interactive been forked ?"
   ]
  },
  {
   "cell_type": "code",
   "execution_count": 11,
   "metadata": {},
   "outputs": [],
   "source": [
    "var forks = await gitHubClient.Repository.Forks.GetAll(organization, repositoryName);"
   ]
  },
  {
   "cell_type": "code",
   "execution_count": null,
   "metadata": {},
   "outputs": [],
   "source": [
    "var forkCreateByMonth = forks.GroupBy(f => new DateTime(f.CreatedAt.Year, f.CreatedAt.Month,  f.CreatedAt.Day) )\n",
    "    .Select(g => new {Date = g.Key, Count = g.Count()}).OrderBy(g => g.Date).ToArray();\n",
    "var forkLastUpdateByMonth = forks.GroupBy(f => new DateTime(f.UpdatedAt.Year, f.UpdatedAt.Month,  f.UpdatedAt.Day) )\n",
    "    .Select(g => new {Date = g.Key, Count = g.Count()}).OrderBy(g => g.Date).ToArray();\n",
    "\n",
    "var total = 0;\n",
    "var forkCountByMonth = forkCreateByMonth.OrderBy(g => g.Date).Select(g => new {g.Date, Count = total += g.Count}).ToArray();\n",
    "\n",
    "var forkCreationSeries = new Graph.Scattergl\n",
    "{\n",
    "    name = \"created by month\",\n",
    "    y = forkCreateByMonth.Select(g => g.Count ).ToArray(),\n",
    "    x = forkCreateByMonth.Select(g => g.Date ).ToArray()\n",
    "};\n",
    "\n",
    "var forkTotalSeries = new Graph.Scattergl\n",
    "{\n",
    "    name = \"running total\",\n",
    "    y = forkCountByMonth.Select(g => g.Count ).ToArray(),\n",
    "    x = forkCountByMonth.Select(g => g.Date ).ToArray()\n",
    "};\n",
    "\n",
    "var forkUpdateSeries = new Graph.Scattergl\n",
    "{\n",
    "    name = \"last update by month\",\n",
    "    y = forkLastUpdateByMonth.Select(g => g.Count ).ToArray(),\n",
    "    x = forkLastUpdateByMonth.Select(g => g.Date ).ToArray()\n",
    "};\n",
    "\n",
    "\n",
    "\n",
    "var chart = Chart.Plot(new[] {forkCreationSeries,forkTotalSeries,forkUpdateSeries});\n",
    "chart.WithTitle(\"Fork activity\");\n",
    "display(chart);"
   ]
  }
 ],
 "metadata": {
  "kernelspec": {
   "display_name": ".NET (C#)",
   "language": "C#",
   "name": ".net-csharp"
  },
  "language_info": {
   "file_extension": ".cs",
   "mimetype": "text/x-csharp",
   "name": "C#",
   "pygments_lexer": "csharp",
   "version": "8.0"
  }
 },
 "nbformat": 4,
 "nbformat_minor": 4
}
